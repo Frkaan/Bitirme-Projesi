{
 "cells": [
  {
   "cell_type": "code",
   "execution_count": null,
   "metadata": {},
   "outputs": [],
   "source": [
    "import tensorflow as tf\n",
    "from keras.preprocessing.image import ImageDataGenerator\n",
    "from keras.models import Sequential\n",
    "from keras.layers import Conv2D, MaxPooling2D, Flatten, BatchNormalization, Dense"
   ]
  },
  {
   "cell_type": "code",
   "execution_count": null,
   "metadata": {},
   "outputs": [],
   "source": [
    "input_size = 128\n",
    "kernel_size = 3\n",
    "maxpool_size = 2\n",
    "batch_size = 4\n",
    "epochs = 100\n",
    "\n",
    "model = Sequential()\n",
    "model.add(Conv2D(16,(kernel_size,kernel_size),input_shape=(input_size,input_size,1),activation ='relu',padding='same'))\n",
    "model.add(BatchNormalization())\n",
    "model.add(MaxPooling2D(pool_size=(maxpool_size, maxpool_size)))\n",
    "\n",
    "model.add(Conv2D(32,(kernel_size,kernel_size),activation ='relu',padding='same'))\n",
    "model.add(BatchNormalization())\n",
    "model.add(MaxPooling2D(pool_size=(maxpool_size, maxpool_size)))\n",
    "\n",
    "model.add(Conv2D(64, (kernel_size,kernel_size), activation='relu', padding='same'))\n",
    "model.add(BatchNormalization())\n",
    "model.add(MaxPooling2D(pool_size=(maxpool_size, maxpool_size)))\n",
    "\n",
    "\n",
    "model.add(Flatten())\n",
    "\n",
    "model.add(Dense(128, activation='relu'))\n",
    "model.add(Dense(64, activation='relu'))\n",
    "model.add(Dense(32, activation='relu'))\n",
    "model.add(Dense(24,activation='softmax'))\n",
    "\n",
    "model.compile( optimizer= tf.keras.optimizers.Adam(learning_rate=0.001),loss='categorical_crossentropy',metrics=['accuracy'])"
   ]
  },
  {
   "cell_type": "code",
   "execution_count": null,
   "metadata": {},
   "outputs": [],
   "source": [
    "train_dir = \"D:/data/my_dataset/asl-dataset-gray-2/train/\"\n",
    "val_dir = \"D:/data/my_dataset/asl-dataset-gray-2/val/\"\n",
    "test_dir = \"D:/data/my_dataset/asl-dataset-gray-2/test/\"\n",
    "\n",
    "train_gen = ImageDataGenerator(\n",
    "    featurewise_center=False,\n",
    "    samplewise_center=False,\n",
    "    featurewise_std_normalization=False,\n",
    "    samplewise_std_normalization=False,\n",
    "    zca_whitening=False,\n",
    "    zca_epsilon=1e-06,\n",
    "    rotation_range=0,\n",
    "    width_shift_range=0.1,\n",
    "    height_shift_range=0.1,\n",
    "    brightness_range=None,\n",
    "    shear_range=0,\n",
    "    zoom_range=0,\n",
    "    channel_shift_range=0.0,\n",
    "    fill_mode='nearest',\n",
    "    cval=0.0,\n",
    "    horizontal_flip=True,\n",
    "    vertical_flip=False,\n",
    "    rescale=1/255,\n",
    "    preprocessing_function=None,\n",
    "    data_format=None,\n",
    "    dtype=None\n",
    ")\n",
    "gen = ImageDataGenerator(rescale=1/255)\n",
    "\n",
    "training_set = gen.flow_from_directory(train_dir, target_size = (input_size, input_size), batch_size = batch_size , class_mode ='categorical', color_mode='grayscale', shuffle=True)\n",
    "validation_set = gen.flow_from_directory(val_dir, target_size = (input_size, input_size), batch_size = batch_size , class_mode ='categorical', color_mode='grayscale', shuffle=True)\n",
    "testing_set = gen.flow_from_directory(test_dir, target_size = (input_size, input_size), batch_size= batch_size, class_mode ='categorical', color_mode='grayscale')"
   ]
  },
  {
   "cell_type": "code",
   "execution_count": null,
   "metadata": {},
   "outputs": [],
   "source": [
    "cb = tf.keras.callbacks.EarlyStopping(monitor=\"loss\",patience=5,verbose=1)\n",
    "history = model.fit(\n",
    "    training_set,\n",
    "    steps_per_epoch= len(training_set)//batch_size,\n",
    "    epochs= epochs,\n",
    "    validation_data=validation_set,\n",
    "    validation_steps= len(validation_set)//batch_size,\n",
    "    callbacks=[cb]\n",
    ")"
   ]
  },
  {
   "cell_type": "code",
   "execution_count": null,
   "metadata": {},
   "outputs": [],
   "source": [
    "import matplotlib.pyplot as plt\n",
    "\n",
    "loss_train = history.history['accuracy']\n",
    "loss_val = history.history['val_accuracy']\n",
    "plt.plot(loss_train, 'r', label='Training accuracy')\n",
    "plt.plot(loss_val, 'b', label='validation accuracy')\n",
    "plt.title('Training and Validation accuracy')\n",
    "plt.xlabel('Epochs')\n",
    "plt.ylabel('Loss')\n",
    "plt.legend()\n",
    "plt.show()\n",
    "\n",
    "loss_train = history.history['loss']\n",
    "loss_val = history.history['val_loss']\n",
    "plt.plot(loss_train, 'r', label='Training loss')\n",
    "plt.plot(loss_val, 'b', label='validation loss')\n",
    "plt.title('Training and Validation loss')\n",
    "plt.xlabel('Epochs')\n",
    "plt.ylabel('Loss')\n",
    "plt.legend()\n",
    "plt.show()\n",
    "\n",
    "score = model.evaluate(testing_set)\n",
    "for idx, metric in enumerate(model.metrics_names):\n",
    "    print(metric, score[idx])\n",
    "\n",
    "model.save(\"ai_model\")"
   ]
  }
 ],
 "metadata": {
  "interpreter": {
   "hash": "cf92aa13fedf815d5c8dd192b8d835913fde3e8bc926b2a0ad6cc74ef2ba3ca2"
  },
  "kernelspec": {
   "display_name": "Python 3.9.6 64-bit",
   "language": "python",
   "name": "python3"
  },
  "language_info": {
   "codemirror_mode": {
    "name": "ipython",
    "version": 3
   },
   "file_extension": ".py",
   "mimetype": "text/x-python",
   "name": "python",
   "nbconvert_exporter": "python",
   "pygments_lexer": "ipython3",
   "version": "3.9.6"
  },
  "orig_nbformat": 4
 },
 "nbformat": 4,
 "nbformat_minor": 2
}
